{
 "cells": [
  {
   "cell_type": "code",
   "execution_count": 49,
   "id": "cdf4c9db",
   "metadata": {},
   "outputs": [],
   "source": [
    "import gym\n",
    "from gym import Env\n",
    "import math\n",
    "import numpy as np\n",
    "\n",
    "from typing import Optional, Union\n",
    "from gym.spaces import Discrete, Box, Dict, Tuple, MultiBinary, MultiDiscrete\n",
    "from gym import logger, spaces"
   ]
  },
  {
   "cell_type": "code",
   "execution_count": 50,
   "id": "4c4e05fc",
   "metadata": {},
   "outputs": [],
   "source": [
    "def sumTon(a, d, n):\n",
    "    return ((n/2)*(2*a+((n-1)*d)))"
   ]
  },
  {
   "cell_type": "code",
   "execution_count": 51,
   "id": "847ed785",
   "metadata": {},
   "outputs": [],
   "source": [
    "metadata = {\n",
    "        \"render_modes\": [\"human\", \"rgb_array\"],\n",
    "        \"render_fps\": 50,\n",
    "    }\n",
    "\n",
    "class cartpole(gym.Env):\n",
    "    def __init__(self):\n",
    "        # edit\n",
    "        self.n = 2\n",
    "        self.masscart = 1.0\n",
    "        self.masspole = 0.1\n",
    "        self.total_mass = self.masspole + self.masscart\n",
    "        self.length = 0.5  # actually half the pole's length\n",
    "        \n",
    "        self.polemass_length = self.masspole * self.length\n",
    "        \n",
    "        self.force_mag = 10.0\n",
    "        \n",
    "        self.tau = 0.02  # seconds between state updates\n",
    "\n",
    "        self.kinematics_integrator = \"euler\"\n",
    "\n",
    "        # Angle at which to fail the episode\n",
    "        self.theta_threshold_radians = 12 * 2 * math.pi / 360\n",
    "        \n",
    "        self.x_threshold = 2.4\n",
    "        \n",
    "        high = np.array(\n",
    "            [\n",
    "                np.arange(4.8, sumTon(4.8, 5.8, self.n), 5.8),\n",
    "                np.full(self.n, np.finfo(np.float32).max),\n",
    "                np.full(self.n, self.theta_threshold_radians * 2),\n",
    "                np.full(self.n, np.finfo(np.float32).max),\n",
    "            ],\n",
    "            dtype=object,\n",
    "        )\n",
    "\n",
    "        low = np.array(\n",
    "            [\n",
    "                np.arange(-4.8, sumTon(-4.8, -5.8, self.n), -5.8),\n",
    "                np.full(self.n, np.finfo(np.float32).max),\n",
    "                np.full(self.n, self.theta_threshold_radians * 2),\n",
    "                np.full(self.n, np.finfo(np.float32).max),\n",
    "            ],\n",
    "            dtype=object,\n",
    "        )\n",
    "        \n",
    "\n",
    "        # Angle limit set to 2 * theta_threshold_radians so failing observation\n",
    "        # is still within bounds.\n",
    "        \n",
    "        \n",
    "        self.action_space = MultiDiscrete(np.full((self.n), 2))\n",
    "        \n",
    "        self.observation_space = spaces.Box(low, high, shape=(4, self.n))\n",
    "\n",
    "        self.render_mode = \"human\"\n",
    "\n",
    "        self.screen_width = 6000 * self.n\n",
    "        self.screen_height = 400 * self.n\n",
    "        self.screen = None\n",
    "        self.clock = None\n",
    "        self.isopen = True\n",
    "        self.state = np.empty((4, self.n), dtype=object)\n",
    "\n",
    "        self.steps_beyond_terminated = None\n",
    "    def step(self):\n",
    "        pass\n",
    "    def reset(self):\n",
    "        pass\n",
    "    def render(self):\n",
    "        pass"
   ]
  },
  {
   "cell_type": "code",
   "execution_count": 52,
   "id": "715e54b1",
   "metadata": {},
   "outputs": [],
   "source": [
    "env = cartpole()"
   ]
  },
  {
   "cell_type": "code",
   "execution_count": 57,
   "id": "128dbe04",
   "metadata": {},
   "outputs": [
    {
     "data": {
      "text/plain": [
       "array([1, 1])"
      ]
     },
     "execution_count": 57,
     "metadata": {},
     "output_type": "execute_result"
    }
   ],
   "source": [
    "env.action_space.sample()"
   ]
  },
  {
   "cell_type": "code",
   "execution_count": null,
   "id": "ae8c0cdb",
   "metadata": {},
   "outputs": [],
   "source": []
  }
 ],
 "metadata": {
  "kernelspec": {
   "display_name": "Python 3 (ipykernel)",
   "language": "python",
   "name": "python3"
  },
  "language_info": {
   "codemirror_mode": {
    "name": "ipython",
    "version": 3
   },
   "file_extension": ".py",
   "mimetype": "text/x-python",
   "name": "python",
   "nbconvert_exporter": "python",
   "pygments_lexer": "ipython3",
   "version": "3.10.6"
  }
 },
 "nbformat": 4,
 "nbformat_minor": 5
}
